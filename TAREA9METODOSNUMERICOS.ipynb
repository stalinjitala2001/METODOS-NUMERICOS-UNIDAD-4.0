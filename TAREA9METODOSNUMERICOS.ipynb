{
  "nbformat": 4,
  "nbformat_minor": 0,
  "metadata": {
    "colab": {
      "provenance": []
    },
    "kernelspec": {
      "name": "python3",
      "display_name": "Python 3"
    },
    "language_info": {
      "name": "python"
    }
  },
  "cells": [
    {
      "cell_type": "markdown",
      "source": [
        "Nombre: STALIN JITALA\n",
        "MATERIA: METODOS NUMERICOS\n",
        "Profesor: Ingeniero Jonathan Zea\n"
      ],
      "metadata": {
        "id": "gFx-q6_I9n6H"
      }
    },
    {
      "cell_type": "code",
      "execution_count": 1,
      "metadata": {
        "colab": {
          "base_uri": "https://localhost:8080/",
          "height": 0
        },
        "id": "sZAk8neB4UCA",
        "outputId": "683a723a-37c6-4fa4-eec4-094632ca76b7"
      },
      "outputs": [
        {
          "output_type": "stream",
          "name": "stdout",
          "text": [
            "La solución del sistema es: x1 = 0.33333333333333337, x2 = -1.6666666666666667\n"
          ]
        }
      ],
      "source": [
        "import numpy as np\n",
        "\n",
        "def eliminacion_gaussiana(A, b):\n",
        "   s\n",
        "    A = np.array(A, float)\n",
        "    b = np.array(b, float)\n",
        "    n = len(b)\n",
        "\n",
        "    for i in range(n):\n",
        "\n",
        "        for k in range(i, n):\n",
        "            if abs(A[k][i]) > abs(A[i][i]):\n",
        "                A[[i, k]] = A[[k, i]]\n",
        "                b[[i, k]] = b[[k, i]]\n",
        "\n",
        "        for j in range(i+1, n):\n",
        "            factor = A[j][i] / A[i][i]\n",
        "            for k in range(i, n):\n",
        "                A[j][k] -= factor * A[i][k]\n",
        "            b[j] -= factor * b[i]\n",
        "\n",
        "    x = np.zeros(n)\n",
        "    for i in range(n-1, -1, -1):\n",
        "        suma = 0\n",
        "        for j in range(i+1, n):\n",
        "            suma += A[i][j] * x[j]\n",
        "        x[i] = (b[i] - suma) / A[i][i]\n",
        "\n",
        "    return x\n",
        "\n",
        "\n",
        "A = [[2, 1], [1, -1]]\n",
        "b = [-1, 2]\n",
        "solucion = eliminacion_gaussiana(A, b)\n",
        "print(f\"La solución del sistema es: x1 = {solucion[0]}, x2 = {solucion[1]}\")\n"
      ]
    },
    {
      "cell_type": "code",
      "source": [
        "A = [[1, 2], [1, -1]]\n",
        "b = [0, 0]\n",
        "solucion_a = eliminacion_gaussiana(A, b)\n",
        "print(f\"Solución del sistema 1a: x1 = {solucion_a[0]}, x2 = {solucion_a[1]}\")\n"
      ],
      "metadata": {
        "colab": {
          "base_uri": "https://localhost:8080/",
          "height": 0
        },
        "id": "01IHa6Ni4dPj",
        "outputId": "241fd892-dc59-4dc1-849e-9db4b7135d15"
      },
      "execution_count": 2,
      "outputs": [
        {
          "output_type": "stream",
          "name": "stdout",
          "text": [
            "Solución del sistema 1a: x1 = 0.0, x2 = -0.0\n"
          ]
        }
      ]
    },
    {
      "cell_type": "code",
      "source": [
        "A = [[1, 2], [-2, -4]]\n",
        "b = [3, 6]\n",
        "solucion_b = eliminacion_gaussiana(A, b)\n",
        "print(f\"Solución del sistema 1b: x1 = {solucion_b[0]}, x2 = {solucion_b[1]}\")\n"
      ],
      "metadata": {
        "colab": {
          "base_uri": "https://localhost:8080/",
          "height": 0
        },
        "id": "vrqk3ySz4ga3",
        "outputId": "dfc405ca-815b-479c-b48e-e57253988fd2"
      },
      "execution_count": 3,
      "outputs": [
        {
          "output_type": "stream",
          "name": "stdout",
          "text": [
            "Solución del sistema 1b: x1 = -inf, x2 = inf\n"
          ]
        },
        {
          "output_type": "stream",
          "name": "stderr",
          "text": [
            "<ipython-input-1-440aa882fddb>:29: RuntimeWarning: divide by zero encountered in scalar divide\n",
            "  x[i] = (b[i] - suma) / A[i][i]\n"
          ]
        }
      ]
    },
    {
      "cell_type": "code",
      "source": [
        "A = [[2, 1], [1, 3]]\n",
        "b = [-1, 2]\n",
        "solucion_c = eliminacion_gaussiana(A, b)\n",
        "print(f\"Solución del sistema 1c: x1 = {solucion_c[0]}, x2 = {solucion_c[1]}\")\n"
      ],
      "metadata": {
        "colab": {
          "base_uri": "https://localhost:8080/",
          "height": 0
        },
        "id": "sUF6sdj24jw5",
        "outputId": "663291be-1ca8-4bb4-fc11-ddccda3a880c"
      },
      "execution_count": 4,
      "outputs": [
        {
          "output_type": "stream",
          "name": "stdout",
          "text": [
            "Solución del sistema 1c: x1 = -1.0, x2 = 1.0\n"
          ]
        }
      ]
    },
    {
      "cell_type": "code",
      "source": [
        "A = [[2, 1, 1], [1, 1, -1], [1, 4, -1]]\n",
        "b = [1, 5, -1]\n",
        "solucion_d = eliminacion_gaussiana(A, b)\n",
        "print(f\"Solución del sistema 1d: x1 = {solucion_d[0]}, x2 = {solucion_d[1]}, x3 = {solucion_d[2]}\")\n"
      ],
      "metadata": {
        "colab": {
          "base_uri": "https://localhost:8080/",
          "height": 0
        },
        "id": "pFDYhEkG4mmB",
        "outputId": "ecce2b4d-85b9-4da2-fa15-581c3bb8f193"
      },
      "execution_count": 5,
      "outputs": [
        {
          "output_type": "stream",
          "name": "stdout",
          "text": [
            "Solución del sistema 1d: x1 = 3.333333333333333, x2 = -2.0, x3 = -3.6666666666666665\n"
          ]
        }
      ]
    },
    {
      "cell_type": "markdown",
      "source": [
        "Ejercicio 2"
      ],
      "metadata": {
        "id": "Kn8wJSQh4rSm"
      }
    },
    {
      "cell_type": "code",
      "source": [
        "A = [[-1, 4, 3], [5, 2, -1], [1, 4, 2]]\n",
        "b = [8, 1, 9]\n",
        "solucion_2a = eliminacion_gaussiana(A, b)\n",
        "print(f\"Solución del sistema 2a: x1 = {solucion_2a[0]}, x2 = {solucion_2a[1]}, x3 = {solucion_2a[2]}\")\n"
      ],
      "metadata": {
        "colab": {
          "base_uri": "https://localhost:8080/",
          "height": 0
        },
        "id": "C6i9-4oe4sEN",
        "outputId": "42dcd70f-c86d-410c-d9e8-a95d56b9e29f"
      },
      "execution_count": 6,
      "outputs": [
        {
          "output_type": "stream",
          "name": "stdout",
          "text": [
            "Solución del sistema 2a: x1 = -11.000000000000068, x2 = 16.500000000000096, x3 = -23.000000000000153\n"
          ]
        }
      ]
    },
    {
      "cell_type": "code",
      "source": [
        "A = [[4, 2, -1], [1/9, 1/4, 1/3], [1, 4, 2]]\n",
        "b = [-5, 1, 9]\n",
        "solucion_2b = eliminacion_gaussiana(A, b)\n",
        "print(f\"Solución del sistema 2b: x1 = {solucion_2b[0]}, x2 = {solucion_2b[1]}, x3 = {solucion_2b[2]}\")\n"
      ],
      "metadata": {
        "colab": {
          "base_uri": "https://localhost:8080/",
          "height": 0
        },
        "id": "FRlrUXu74vTS",
        "outputId": "be9218d0-2b25-4835-ce3d-85f366588948"
      },
      "execution_count": 7,
      "outputs": [
        {
          "output_type": "stream",
          "name": "stdout",
          "text": [
            "Solución del sistema 2b: x1 = -1.336134453781513, x2 = 1.3781512605042021, x3 = 2.4117647058823524\n"
          ]
        }
      ]
    },
    {
      "cell_type": "markdown",
      "source": [
        "Ejercicio 3"
      ],
      "metadata": {
        "id": "4z4T1O364yZO"
      }
    },
    {
      "cell_type": "code",
      "source": [
        "A = [[1, -1, 3], [3, -3, 1], [1, 1, 0]]\n",
        "b = [2, -1, 3]\n",
        "solucion_3a = eliminacion_gaussiana(A, b)\n",
        "print(f\"Solución del sistema 3a: x1 = {solucion_3a[0]}, x2 = {solucion_3a[1]}, x3 = {solucion_3a[2]}\")\n"
      ],
      "metadata": {
        "colab": {
          "base_uri": "https://localhost:8080/",
          "height": 0
        },
        "id": "Fz8T83iF4y2m",
        "outputId": "c35e15ff-48c3-45f1-8feb-eec41516ad16"
      },
      "execution_count": 8,
      "outputs": [
        {
          "output_type": "stream",
          "name": "stdout",
          "text": [
            "Solución del sistema 3a: x1 = 1.1875, x2 = 1.8125, x3 = 0.8750000000000001\n"
          ]
        }
      ]
    },
    {
      "cell_type": "code",
      "source": [
        "A = [[2, -1.5, 3], [-1, 1, 0], [4, -4.5, 5]]\n",
        "b = [1, 3, 1]\n",
        "solucion_3b = eliminacion_gaussiana(A, b)\n",
        "print(f\"Solución del sistema 3b: x1 = {solucion_3b[0]}, x2 = {solucion_3b[1]}, x3 = {solucion_3b[2]}\")\n"
      ],
      "metadata": {
        "colab": {
          "base_uri": "https://localhost:8080/",
          "height": 0
        },
        "id": "JvcceZ1241NT",
        "outputId": "88e01c69-a4b9-457f-919f-2dab6760f26e"
      },
      "execution_count": 9,
      "outputs": [
        {
          "output_type": "stream",
          "name": "stdout",
          "text": [
            "Solución del sistema 3b: x1 = -4.000000000000001, x2 = -1.0000000000000002, x3 = 2.5000000000000004\n"
          ]
        }
      ]
    },
    {
      "cell_type": "code",
      "source": [
        "A = [[2, 0, 0, 0], [1, 1.5, 0, 0], [0, -3, 0.5, 0], [2, -2, 3, 1]]\n",
        "b = [3, 4.5, -6.6, 0.8]\n",
        "solucion_3c = eliminacion_gaussiana(A, b)\n",
        "print(f\"Solución del sistema 3c: x1 = {solucion_3c[0]}, x2 = {solucion_3c[1]}, x3 = {solucion_3c[2]}, x4 = {solucion_3c[3]}\")\n"
      ],
      "metadata": {
        "colab": {
          "base_uri": "https://localhost:8080/",
          "height": 0
        },
        "id": "_VHCVK6B455p",
        "outputId": "a339da06-1718-4447-bcd7-7353ea504e94"
      },
      "execution_count": 10,
      "outputs": [
        {
          "output_type": "stream",
          "name": "stdout",
          "text": [
            "Solución del sistema 3c: x1 = 1.5, x2 = 2.0, x3 = -1.1999999999999995, x4 = 5.399999999999998\n"
          ]
        }
      ]
    },
    {
      "cell_type": "code",
      "source": [
        "A = [[1, 1, 0, 1], [1, 1, 1, 1], [-1, 1, -2, 4]]\n",
        "b = [2, 5, -3]\n",
        "solucion_3d = eliminacion_gaussiana(A, b)\n",
        "print(f\"Solución del sistema 3d: x1 = {solucion_3d[0]}, x2 = {solucion_3d[1]}, x3 = {solucion_3d[2]}, x4 = {solucion_3d[3]}\")\n",
        "\n"
      ],
      "metadata": {
        "colab": {
          "base_uri": "https://localhost:8080/",
          "height": 193
        },
        "id": "Z9CcRUjS48Df",
        "outputId": "40e21523-015c-4246-f4c5-e86a1a54ca32"
      },
      "execution_count": 12,
      "outputs": [
        {
          "output_type": "error",
          "ename": "IndexError",
          "evalue": "index 3 is out of bounds for axis 0 with size 3",
          "traceback": [
            "\u001b[0;31m---------------------------------------------------------------------------\u001b[0m",
            "\u001b[0;31mIndexError\u001b[0m                                Traceback (most recent call last)",
            "\u001b[0;32m<ipython-input-12-89f137c437c8>\u001b[0m in \u001b[0;36m<cell line: 4>\u001b[0;34m()\u001b[0m\n\u001b[1;32m      2\u001b[0m \u001b[0mb\u001b[0m \u001b[0;34m=\u001b[0m \u001b[0;34m[\u001b[0m\u001b[0;36m2\u001b[0m\u001b[0;34m,\u001b[0m \u001b[0;36m5\u001b[0m\u001b[0;34m,\u001b[0m \u001b[0;34m-\u001b[0m\u001b[0;36m3\u001b[0m\u001b[0;34m]\u001b[0m\u001b[0;34m\u001b[0m\u001b[0;34m\u001b[0m\u001b[0m\n\u001b[1;32m      3\u001b[0m \u001b[0msolucion_3d\u001b[0m \u001b[0;34m=\u001b[0m \u001b[0meliminacion_gaussiana\u001b[0m\u001b[0;34m(\u001b[0m\u001b[0mA\u001b[0m\u001b[0;34m,\u001b[0m \u001b[0mb\u001b[0m\u001b[0;34m)\u001b[0m\u001b[0;34m\u001b[0m\u001b[0;34m\u001b[0m\u001b[0m\n\u001b[0;32m----> 4\u001b[0;31m \u001b[0mprint\u001b[0m\u001b[0;34m(\u001b[0m\u001b[0;34mf\"Solución del sistema 3d: x1 = {solucion_3d[0]}, x2 = {solucion_3d[1]}, x3 = {solucion_3d[2]}, x4 = {solucion_3d[3]}\"\u001b[0m\u001b[0;34m)\u001b[0m\u001b[0;34m\u001b[0m\u001b[0;34m\u001b[0m\u001b[0m\n\u001b[0m\u001b[1;32m      5\u001b[0m \u001b[0;34m\u001b[0m\u001b[0m\n",
            "\u001b[0;31mIndexError\u001b[0m: index 3 is out of bounds for axis 0 with size 3"
          ]
        }
      ]
    },
    {
      "cell_type": "code",
      "source": [],
      "metadata": {
        "id": "pL9hUtoW4_yQ"
      },
      "execution_count": null,
      "outputs": []
    },
    {
      "cell_type": "markdown",
      "source": [
        "Ejercicio 4"
      ],
      "metadata": {
        "id": "rqT1RQgZ5Fpu"
      }
    },
    {
      "cell_type": "code",
      "source": [
        "A = [[1/2, 1/2, 1/2], [1/4, 1/4, 1/4], [1/3, 1/3, 1/3]]\n",
        "b = [9, 8, 8]\n",
        "solucion_4a = eliminacion_gaussiana(A, b)\n",
        "print(f\"Solución del sistema 4a: x1 = {solucion_4a[0]}, x2 = {solucion_4a[1]}, x3 = {solucion_4a[2]}\")\n"
      ],
      "metadata": {
        "colab": {
          "base_uri": "https://localhost:8080/",
          "height": 0
        },
        "id": "8tJevzhn5Gdb",
        "outputId": "76774dd9-b05f-459a-fa38-cd3291b7674d"
      },
      "execution_count": 13,
      "outputs": [
        {
          "output_type": "stream",
          "name": "stdout",
          "text": [
            "Solución del sistema 4a: x1 = nan, x2 = nan, x3 = nan\n"
          ]
        },
        {
          "output_type": "stream",
          "name": "stderr",
          "text": [
            "<ipython-input-1-440aa882fddb>:18: RuntimeWarning: invalid value encountered in scalar divide\n",
            "  factor = A[j][i] / A[i][i]\n"
          ]
        }
      ]
    },
    {
      "cell_type": "code",
      "source": [
        "A = [[3.3333, 15920, -10.3333], [2.2222, 16.71, 9.612], [1.5611, 5.1791, 1.6852]]\n",
        "b = [15913, 28.544, 8.4254]\n",
        "solucion_4b = eliminacion_gaussiana(A, b)\n",
        "print(f\"Solución del sistema 4b: x1 = {solucion_4b[0]}, x2 = {solucion_4b[1]}, x3 = {solucion_4b[2]}\")\n"
      ],
      "metadata": {
        "colab": {
          "base_uri": "https://localhost:8080/",
          "height": 0
        },
        "id": "jwvaP6yg5KB3",
        "outputId": "1cf7e9bb-eaa2-4726-daea-fc4e9131124b"
      },
      "execution_count": 14,
      "outputs": [
        {
          "output_type": "stream",
          "name": "stdout",
          "text": [
            "Solución del sistema 4b: x1 = 1.0000299779009658, x2 = 0.9999999757466141, x3 = 0.9999723042430028\n"
          ]
        }
      ]
    },
    {
      "cell_type": "code",
      "source": [
        "A = [[1, 1/2, 1/3], [1/4, 1/5, 1/6], [1/7, 1/8, 1/9]]\n",
        "b = [9, 8, 7]\n",
        "solucion_4c = eliminacion_gaussiana(A, b)\n",
        "print(f\"Solución del sistema 4c: x1 = {solucion_4c[0]}, x2 = {solucion_4c[1]}, x3 = {solucion_4c[2]}\")\n"
      ],
      "metadata": {
        "colab": {
          "base_uri": "https://localhost:8080/",
          "height": 0
        },
        "id": "KEgHp63D5NJl",
        "outputId": "4deffdf7-eb5d-4c91-c8db-bc04825da9f9"
      },
      "execution_count": 15,
      "outputs": [
        {
          "output_type": "stream",
          "name": "stdout",
          "text": [
            "Solución del sistema 4c: x1 = 60.666666666666515, x2 = -373.33333333333263, x3 = 404.99999999999943\n"
          ]
        }
      ]
    },
    {
      "cell_type": "code",
      "source": [
        "A = [[2, 1, 1, 1], [1, 2, 1, 1], [1, 1, 2, 1], [1, 1, 1, 2]]\n",
        "b = [7, 5, 3, 2]\n",
        "solucion_4d = eliminacion_gaussiana(A, b)\n",
        "print(f\"Solución del sistema 4d: x1 = {solucion_4d[0]}, x2 = {solucion_4d[1]}, x3 = {solucion_4d[2]}, x4 = {solucion_4d[3]}\")\n"
      ],
      "metadata": {
        "colab": {
          "base_uri": "https://localhost:8080/",
          "height": 0
        },
        "id": "cv0k6jxU5Qzu",
        "outputId": "e89563ff-ebb6-4bf8-e8ca-8c25d1bb2c96"
      },
      "execution_count": 16,
      "outputs": [
        {
          "output_type": "stream",
          "name": "stdout",
          "text": [
            "Solución del sistema 4d: x1 = 3.6, x2 = 1.5999999999999999, x3 = -0.4, x4 = -1.4\n"
          ]
        }
      ]
    },
    {
      "cell_type": "markdown",
      "source": [
        "Ejercicio 5"
      ],
      "metadata": {
        "id": "W-DUQMsp5UeW"
      }
    },
    {
      "cell_type": "code",
      "source": [
        "def encuentra_alpha(A, b):\n",
        "    A = np.array(A, float)\n",
        "    b = np.array(b, float)\n",
        "    n = len(b)\n",
        "\n",
        "\n",
        "    det = np.linalg.det(A)\n",
        "\n",
        "    if det != 0:\n",
        "\n",
        "        x = np.linalg.solve(A, b)\n",
        "        return \"única\", x\n",
        "    else:\n",
        "\n",
        "        rang_A = np.linalg.matrix_rank(A)\n",
        "        rang_AA = np.linalg.matrix_rank(np.column_stack((A, b)))\n",
        "\n",
        "        if rang_A != rang_AA:\n",
        "            return \"no tiene solución\", None\n",
        "        else:\n",
        "            return \"infinitas soluciones\", None\n",
        "\n",
        "\n",
        "alpha = 1\n",
        "A = [[1, -1, alpha], [-1, 2, -1], [alpha, 1, 1]]\n",
        "b = [-2, 3, 2]\n",
        "tipo, solucion = encuentra_alpha(A, b)\n",
        "if tipo == \"única\":\n",
        "    print(f\"Para alpha = {alpha}, el sistema tiene una única solución: x1 = {solucion[0]}, x2 = {solucion[1]}, x3 = {solucion[2]}\")\n",
        "elif tipo == \"no tiene solución\":\n",
        "    print(f\"Para alpha = {alpha}, el sistema no tiene solución.\")\n",
        "else:\n",
        "    print(f\"Para alpha = {alpha}, el sistema tiene infinitas soluciones.\")\n"
      ],
      "metadata": {
        "colab": {
          "base_uri": "https://localhost:8080/",
          "height": 0
        },
        "id": "SMIadhAh5U86",
        "outputId": "7ea0020a-a99b-4b5b-e8f8-964ce7245ad4"
      },
      "execution_count": 17,
      "outputs": [
        {
          "output_type": "stream",
          "name": "stdout",
          "text": [
            "Para alpha = 1, el sistema no tiene solución.\n"
          ]
        }
      ]
    },
    {
      "cell_type": "markdown",
      "source": [
        "EJERCICIOS APLICADOS"
      ],
      "metadata": {
        "id": "wK56TomJDqQ8"
      }
    },
    {
      "cell_type": "code",
      "source": [
        "import numpy as np\n",
        "\n",
        "A = np.array([[1, 2, 0, 3], [1, 0, 2, 2], [0, 0, 1, 1]], dtype=float)\n",
        "b = np.array([3500, 2700, 900], dtype=float)\n",
        "\n",
        "solucion = np.linalg.lstsq(A, b, rcond=None)[0]\n",
        "\n",
        "print(f\"Solución del sistema: x1 = {solucion[0]}, x2 = {solucion[1]}, x3 = {solucion[2]}, x4 = {solucion[3]}\")\n",
        "\n",
        "# a: ¿Existe suficiente alimento para satisfacer el consumo promedio diario?\n",
        "suficiente_alimento = np.allclose(np.dot(A, solucion), b)\n",
        "print(f\"¿Existe suficiente alimento para satisfacer el consumo promedio diario? {suficiente_alimento}\")\n",
        "\n",
        "# b: Número máximo de animales de cada especie que se podría agregar\n",
        "max_animales = np.min(b / np.dot(A, np.ones(4)))\n",
        "print(f\"Número máximo de animales de cada especie que se podría agregar: {max_animales}\")\n",
        "\n",
        "# c: Si la especie 1 se extingue\n",
        "A_extincion_1 = A[:, 1:]\n",
        "solucion_extincion_1 = np.linalg.lstsq(A_extincion_1, b, rcond=None)[0]\n",
        "incremento_extincion_1 = solucion_extincion_1 - solucion[1:]\n",
        "print(f\"Incremento individual de las especies restantes si la especie 1 se extingue: {incremento_extincion_1}\")\n",
        "\n",
        "# d: Si la especie 2 se extingue\n",
        "A_extincion_2 = np.delete(A, 1, axis=1)\n",
        "solucion_extincion_2 = np.linalg.lstsq(A_extincion_2, b, rcond=None)[0]\n",
        "incremento_extincion_2 = solucion_extincion_2 - np.delete(solucion, 1)\n",
        "print(f\"Incremento individual de las especies restantes si la especie 2 se extingue: {incremento_extincion_2}\")\n",
        "\n"
      ],
      "metadata": {
        "colab": {
          "base_uri": "https://localhost:8080/"
        },
        "id": "Cbyzp2qDDq2Z",
        "outputId": "d15a5df2-e396-49ef-8585-f7cea399a06d"
      },
      "execution_count": 19,
      "outputs": [
        {
          "output_type": "stream",
          "name": "stdout",
          "text": [
            "Solución del sistema: x1 = 899.9999999999997, x2 = 294.11764705882365, x3 = 229.41176470588232, x4 = 670.5882352941182\n",
            "¿Existe suficiente alimento para satisfacer el consumo promedio diario? True\n",
            "Número máximo de animales de cada especie que se podría agregar: 450.0\n",
            "Incremento individual de las especies restantes si la especie 1 se extingue: [ 84.70588235 116.47058824 243.52941176]\n",
            "Incremento individual de las especies restantes si la especie 2 se extingue: [-1.02318154e-12 -1.96078431e+02  1.96078431e+02]\n"
          ]
        }
      ]
    }
  ]
}