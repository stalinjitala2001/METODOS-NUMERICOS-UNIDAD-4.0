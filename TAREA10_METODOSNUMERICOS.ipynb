{
  "nbformat": 4,
  "nbformat_minor": 0,
  "metadata": {
    "colab": {
      "provenance": []
    },
    "kernelspec": {
      "name": "python3",
      "display_name": "Python 3"
    },
    "language_info": {
      "name": "python"
    }
  },
  "cells": [
    {
      "cell_type": "code",
      "execution_count": null,
      "metadata": {
        "id": "uEBWSaM67EW_"
      },
      "outputs": [],
      "source": []
    },
    {
      "cell_type": "markdown",
      "source": [
        "Nombre: STALIN JITALA\n",
        "MATERIA: METODOS NUMERICOS\n",
        "Profesor: Ingeniero Jonathan Zea"
      ],
      "metadata": {
        "id": "MxC87QBA94T0"
      }
    },
    {
      "cell_type": "markdown",
      "source": [
        "Ejercicio 1\n",
        "\n",
        "Multiplicaciones matriz-matriz."
      ],
      "metadata": {
        "id": "vtjMvcMb7xiR"
      }
    },
    {
      "cell_type": "code",
      "source": [
        "import numpy as np\n",
        "\n",
        "# Ejercicio 1a\n",
        "A1a = np.array([[2, -3], [3, -1], [5, 2]])\n",
        "B1a = np.array([[1, 5], [2, 0]])\n",
        "C1a = np.dot(A1a, B1a)\n",
        "print(\"Resultado 1a:\")\n",
        "print(C1a)\n",
        "\n",
        "# Ejercicio 1b\n",
        "A1b = np.array([[2, -3, 1], [3, -1, 0]])\n",
        "B1b = np.array([[1, -1, -4], [3, -1, 2], [2, 0, 0]])\n",
        "C1b = np.dot(A1b, B1b)\n",
        "print(\"Resultado 1b:\")\n",
        "print(C1b)\n",
        "\n",
        "# Ejercicio 1c\n",
        "A1c = np.array([[1, 2, 1, 0], [2, 0, -1, -2], [0, 1, 0, -3]])\n",
        "B1c = np.array([[1, 2], [2, 0], [-1, 3], [1, 1]])\n",
        "C1c = np.dot(A1c, B1c)\n",
        "print(\"Resultado 1c:\")\n",
        "print(C1c)\n",
        "\n",
        "# Ejercicio 1d\n",
        "A1d = np.array([[3, 1, 2], [5, 2, 4], [1, 1, 3], [-2, 0, -4]])\n",
        "B1d = np.array([[0, 1], [1, 2], [-2, -3]])\n",
        "C1d = np.dot(A1d, B1d)\n",
        "print(\"Resultado 1d:\")\n",
        "print(C1d)\n"
      ],
      "metadata": {
        "colab": {
          "base_uri": "https://localhost:8080/"
        },
        "id": "QZ-3ltWt7yIM",
        "outputId": "e9b719c6-765d-4945-d36f-729098f883a3"
      },
      "execution_count": 1,
      "outputs": [
        {
          "output_type": "stream",
          "name": "stdout",
          "text": [
            "Resultado 1a:\n",
            "[[-4 10]\n",
            " [ 1 15]\n",
            " [ 9 25]]\n",
            "Resultado 1b:\n",
            "[[ -5   1 -14]\n",
            " [  0  -2 -14]]\n",
            "Resultado 1c:\n",
            "[[ 4  5]\n",
            " [ 1 -1]\n",
            " [-1 -3]]\n",
            "Resultado 1d:\n",
            "[[-3 -1]\n",
            " [-6 -3]\n",
            " [-5 -6]\n",
            " [ 8 10]]\n"
          ]
        }
      ]
    },
    {
      "cell_type": "markdown",
      "source": [
        "Ejercicio 2\n",
        "\n",
        "Determinar cuáles matrices son no singulares y calcular su inversa."
      ],
      "metadata": {
        "id": "xlOg7Lv872mA"
      }
    },
    {
      "cell_type": "code",
      "source": [
        "# Función para verificar si una matriz es singular\n",
        "def es_singular(A):\n",
        "    return np.linalg.det(A) == 0\n",
        "\n",
        "# Ejercicio 2a\n",
        "A2a = np.array([[4, 3, 6], [2, -3, -2], [1, 0, 1]])\n",
        "print(\"Determinante 2a:\", np.linalg.det(A2a))\n",
        "if not es_singular(A2a):\n",
        "    inv_A2a = np.linalg.inv(A2a)\n",
        "    print(\"Inversa 2a:\")\n",
        "    print(inv_A2a)\n",
        "\n",
        "# Ejercicio 2b\n",
        "A2b = np.array([[1, 2, 0], [0, 1, 1], [2, -1, 1]])\n",
        "print(\"Determinante 2b:\", np.linalg.det(A2b))\n",
        "if not es_singular(A2b):\n",
        "    inv_A2b = np.linalg.inv(A2b)\n",
        "    print(\"Inversa 2b:\")\n",
        "    print(inv_A2b)\n",
        "\n",
        "# Ejercicio 2c\n",
        "A2c = np.array([[2, 3, 1], [4, 5, 2], [3, 4, 1]])\n",
        "print(\"Determinante 2c:\", np.linalg.det(A2c))\n",
        "if not es_singular(A2c):\n",
        "    inv_A2c = np.linalg.inv(A2c)\n",
        "    print(\"Inversa 2c:\")\n",
        "    print(inv_A2c)\n",
        "\n",
        "# Ejercicio 2d\n",
        "A2d = np.array([[1, 1, 0, 1], [2, 3, 4, 0], [0, -1, 1, 1], [1, 3, -2, 1]])\n",
        "print(\"Determinante 2d:\", np.linalg.det(A2d))\n",
        "if not es_singular(A2d):\n",
        "    inv_A2d = np.linalg.inv(A2d)\n",
        "    print(\"Inversa 2d:\")\n",
        "    print(inv_A2d)\n"
      ],
      "metadata": {
        "colab": {
          "base_uri": "https://localhost:8080/"
        },
        "id": "8vH3P_VI74vw",
        "outputId": "fdb9b1dc-7550-42ba-cc23-4198c7966bf6"
      },
      "execution_count": 2,
      "outputs": [
        {
          "output_type": "stream",
          "name": "stdout",
          "text": [
            "Determinante 2a: -5.999999999999997\n",
            "Inversa 2a:\n",
            "[[ 0.5         0.5        -2.        ]\n",
            " [ 0.66666667  0.33333333 -3.33333333]\n",
            " [-0.5        -0.5         3.        ]]\n",
            "Determinante 2b: 6.000000000000001\n",
            "Inversa 2b:\n",
            "[[ 0.33333333 -0.33333333  0.33333333]\n",
            " [ 0.33333333  0.16666667 -0.16666667]\n",
            " [-0.33333333  0.83333333  0.16666667]]\n",
            "Determinante 2c: 1.0\n",
            "Inversa 2c:\n",
            "[[-3.  1.  1.]\n",
            " [ 2. -1.  0.]\n",
            " [ 1.  1. -2.]]\n",
            "Determinante 2d: 9.999999999999998\n",
            "Inversa 2d:\n",
            "[[ 2.5 -0.2 -1.4 -1.1]\n",
            " [-1.   0.2  0.4  0.6]\n",
            " [-0.5  0.2  0.4  0.1]\n",
            " [-0.5  0.   1.   0.5]]\n"
          ]
        }
      ]
    },
    {
      "cell_type": "markdown",
      "source": [
        "Ejercicio 3\n",
        "\n",
        "Resolver los sistemas lineales 4x4."
      ],
      "metadata": {
        "id": "gEgwwol079AX"
      }
    },
    {
      "cell_type": "code",
      "source": [
        "# Ejercicio 3a\n",
        "A3 = np.array([[1, -2, 2, 3], [1, 3, -1, 2], [2, 1, 3, -4], [2, 3, -4, 2]])\n",
        "b3a = np.array([6, 1, -2, 5])\n",
        "x3a = np.linalg.solve(A3, b3a)\n",
        "print(\"Solución 3a:\")\n",
        "print(x3a)\n",
        "\n",
        "# Ejercicio 3b\n",
        "b3b = np.array([1, 4, 2, 4])\n",
        "x3b = np.linalg.solve(A3, b3b)\n",
        "print(\"Solución 3b:\")\n",
        "print(x3b)\n"
      ],
      "metadata": {
        "colab": {
          "base_uri": "https://localhost:8080/"
        },
        "id": "ChEKisvY7_JY",
        "outputId": "c63f792c-cdeb-456a-86c0-9553a3b4e1de"
      },
      "execution_count": 3,
      "outputs": [
        {
          "output_type": "stream",
          "name": "stdout",
          "text": [
            "Solución 3a:\n",
            "[ 2.21827411 -1.18274112 -0.59390863  0.8680203 ]\n",
            "Solución 3b:\n",
            "[0.91370558 0.86294416 0.30456853 0.40101523]\n"
          ]
        }
      ]
    },
    {
      "cell_type": "markdown",
      "source": [
        "Ejercicio 4\n",
        "\n",
        "Encontrar los valores de α que hacen que la matriz sea singular."
      ],
      "metadata": {
        "id": "-6v_7Y678DM0"
      }
    },
    {
      "cell_type": "code",
      "source": [
        "# Función para encontrar los valores de alpha que hacen singular a la matriz\n",
        "def encontrar_alpha_singular():\n",
        "    alphas = np.linspace(-10, 10, 1000)\n",
        "    for alpha in alphas:\n",
        "        A4 = np.array([[1, -1, 1], [2, 0, 1], [0, alpha, alpha/2]])\n",
        "        if np.linalg.det(A4) == 0:\n",
        "            print(f\"Valor de alpha que hace la matriz singular: {alpha}\")\n",
        "\n",
        "encontrar_alpha_singular()\n"
      ],
      "metadata": {
        "id": "WAKgJu_E8Fav"
      },
      "execution_count": 8,
      "outputs": []
    },
    {
      "cell_type": "markdown",
      "source": [
        "Ejercicio 5\n",
        "\n",
        "Resolver los sistemas lineales."
      ],
      "metadata": {
        "id": "19pOJb_C8Hai"
      }
    },
    {
      "cell_type": "code",
      "source": [
        "# Ejercicio 5a\n",
        "A5a = np.array([[1, 2, 1], [2, 1, 0], [3, -1, 2]])\n",
        "b5a = np.array([2, -1, 3])\n",
        "x5a = np.linalg.solve(A5a, b5a)\n",
        "print(\"Solución 5a:\")\n",
        "print(x5a)\n",
        "\n",
        "# Ejercicio 5b\n",
        "A5b = np.array([[2, -1, 1], [1, 3, 2], [1, -1, 2]])\n",
        "b5b = np.array([3, -1, 4])\n",
        "x5b = np.linalg.solve(A5b, b5b)\n",
        "print(\"Solución 5b:\")\n",
        "print(x5b)\n"
      ],
      "metadata": {
        "colab": {
          "base_uri": "https://localhost:8080/"
        },
        "id": "MR589HOG8JOG",
        "outputId": "2818ca14-843d-44e2-bc98-65963604bf2b"
      },
      "execution_count": 5,
      "outputs": [
        {
          "output_type": "stream",
          "name": "stdout",
          "text": [
            "Solución 5a:\n",
            "[-0.54545455  0.09090909  2.36363636]\n",
            "Solución 5b:\n",
            "[ 0.25 -1.25  1.25]\n"
          ]
        }
      ]
    },
    {
      "cell_type": "markdown",
      "source": [
        "Ejercicio 6\n",
        "\n",
        "Factorizar las matrices en la descomposición LU."
      ],
      "metadata": {
        "id": "bH_SnYhf8LQO"
      }
    },
    {
      "cell_type": "code",
      "source": [
        "from scipy.linalg import lu\n",
        "\n",
        "# Ejercicio 6a\n",
        "A6a = np.array([[2, 1, 1], [1, 2, 2], [1, 2, 3]])\n",
        "P, L, U = lu(A6a)\n",
        "print(\"Descomposición LU 6a:\")\n",
        "print(\"L:\")\n",
        "print(L)\n",
        "print(\"U:\")\n",
        "print(U)\n",
        "\n",
        "# Ejercicio 6b\n",
        "A6b = np.array([[1, 1, 2, 1], [3, 4, -1, 2], [5, 1, -1, -3], [2, 2, 3, 2]])\n",
        "P, L, U = lu(A6b)\n",
        "print(\"Descomposición LU 6b:\")\n",
        "print(\"L:\")\n",
        "print(L)\n",
        "print(\"U:\")\n",
        "print(U)\n"
      ],
      "metadata": {
        "colab": {
          "base_uri": "https://localhost:8080/"
        },
        "id": "C-jkXhmH8NZL",
        "outputId": "10daab1f-d730-4578-c6a0-54ed76e22c49"
      },
      "execution_count": 4,
      "outputs": [
        {
          "output_type": "stream",
          "name": "stdout",
          "text": [
            "Descomposición LU 6a:\n",
            "L:\n",
            "[[1.  0.  0. ]\n",
            " [0.5 1.  0. ]\n",
            " [0.5 1.  1. ]]\n",
            "U:\n",
            "[[2.  1.  1. ]\n",
            " [0.  1.5 1.5]\n",
            " [0.  0.  1. ]]\n",
            "Descomposición LU 6b:\n",
            "L:\n",
            "[[1.         0.         0.         0.        ]\n",
            " [0.6        1.         0.         0.        ]\n",
            " [0.4        0.47058824 1.         0.        ]\n",
            " [0.2        0.23529412 0.63934426 1.        ]]\n",
            "U:\n",
            "[[ 5.          1.         -1.         -3.        ]\n",
            " [ 0.          3.4        -0.4         3.8       ]\n",
            " [ 0.          0.          3.58823529  1.41176471]\n",
            " [ 0.          0.          0.         -0.19672131]]\n"
          ]
        }
      ]
    }
  ]
}