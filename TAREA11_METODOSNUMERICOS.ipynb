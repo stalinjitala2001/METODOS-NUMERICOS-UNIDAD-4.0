{
  "nbformat": 4,
  "nbformat_minor": 0,
  "metadata": {
    "colab": {
      "provenance": []
    },
    "kernelspec": {
      "name": "python3",
      "display_name": "Python 3"
    },
    "language_info": {
      "name": "python"
    }
  },
  "cells": [
    {
      "cell_type": "code",
      "source": [],
      "metadata": {
        "id": "6jDJhbVs6YeV"
      },
      "execution_count": null,
      "outputs": []
    },
    {
      "cell_type": "markdown",
      "source": [
        "Nombre: STALIN JITALA\n",
        "MATERIA: METODOS NUMERICOS\n",
        "Profesor: Ingeniero Jonathan Zea"
      ],
      "metadata": {
        "id": "mnXR5S8V922J"
      }
    },
    {
      "cell_type": "markdown",
      "source": [
        "Ejercicio 1"
      ],
      "metadata": {
        "id": "n3sLCfXh6b8M"
      }
    },
    {
      "cell_type": "code",
      "execution_count": 1,
      "metadata": {
        "colab": {
          "base_uri": "https://localhost:8080/"
        },
        "id": "rVH-aGkp6M3r",
        "outputId": "64b04cf6-92cb-4e60-b9ef-df7e655a029a"
      },
      "outputs": [
        {
          "output_type": "stream",
          "name": "stdout",
          "text": [
            "Solución Jacobi 1a: [ 0.14285714 -0.35714286  0.42857143] en 2 iteraciones\n"
          ]
        }
      ],
      "source": [
        "import numpy as np\n",
        "\n",
        "def jacobi(A, b, x0, tol, max_iter):\n",
        "    n = len(b)\n",
        "    x = x0.copy()\n",
        "    x_new = np.zeros_like(x0)\n",
        "\n",
        "    for k in range(max_iter):\n",
        "        for i in range(n):\n",
        "            sum_Ax = sum(A[i][j] * x[j] for j in range(n) if j != i)\n",
        "            x_new[i] = (b[i] - sum_Ax) / A[i][i]\n",
        "\n",
        "        if np.linalg.norm(x_new - x, ord=np.inf) < tol:\n",
        "            return x_new, k\n",
        "        x = x_new.copy()\n",
        "\n",
        "    return x_new, max_iter\n",
        "\n",
        "\n",
        "A1 = np.array([[3, -1, 1], [3, 6, 2], [3, 3, 7]], float)\n",
        "b1 = np.array([1, 0, 4], float)\n",
        "x0 = np.zeros(3)\n",
        "tol = 1e-5\n",
        "max_iter = 100\n",
        "\n",
        "sol_jacobi_1a, iter_1a = jacobi(A1, b1, x0, tol, 2)\n",
        "print(f\"Solución Jacobi 1a: {sol_jacobi_1a} en {iter_1a} iteraciones\")\n"
      ]
    },
    {
      "cell_type": "markdown",
      "source": [
        "Ejercicio 2"
      ],
      "metadata": {
        "id": "g4O-XZ576fkW"
      }
    },
    {
      "cell_type": "code",
      "source": [
        "def gauss_seidel(A, b, x0, tol, max_iter):\n",
        "    n = len(b)\n",
        "    x = x0.copy()\n",
        "\n",
        "    for k in range(max_iter):\n",
        "        x_new = np.zeros_like(x0)\n",
        "        for i in range(n):\n",
        "            sum_Ax1 = sum(A[i][j] * x_new[j] for j in range(i))\n",
        "            sum_Ax2 = sum(A[i][j] * x[j] for j in range(i+1, n))\n",
        "            x_new[i] = (b[i] - sum_Ax1 - sum_Ax2) / A[i][i]\n",
        "\n",
        "        if np.linalg.norm(x_new - x, ord=np.inf) < tol:\n",
        "            return x_new, k\n",
        "        x = x_new.copy()\n",
        "\n",
        "    return x_new, max_iter\n",
        "\n",
        "# Resolver el mismo sistema usando Gauss-Seidel\n",
        "sol_gauss_seidel_1a, iter_1a_gs = gauss_seidel(A1, b1, x0, tol, 2)\n",
        "print(f\"Solución Gauss-Seidel 1a: {sol_gauss_seidel_1a} en {iter_1a_gs} iteraciones\")\n"
      ],
      "metadata": {
        "id": "ro1MtGKa6gS-"
      },
      "execution_count": null,
      "outputs": []
    },
    {
      "cell_type": "markdown",
      "source": [
        "Ejercicio 4\n",
        "Método de Gauss-Seidel con tolerancia 10^{-3}"
      ],
      "metadata": {
        "id": "_pU6hoYH6oSI"
      }
    },
    {
      "cell_type": "code",
      "source": [
        "tol = 1e-3\n",
        "\n",
        "sol_gauss_seidel_4a, iter_4a_gs = gauss_seidel(A1, b1, x0, tol, max_iter)\n",
        "print(f\"Solución Gauss-Seidel 4a con TOL = 10^-3: {sol_gauss_seidel_4a} en {iter_4a_gs} iteraciones\")\n"
      ],
      "metadata": {
        "id": "lMT6MLtg6pK9"
      },
      "execution_count": null,
      "outputs": []
    },
    {
      "cell_type": "markdown",
      "source": [
        "Ejercicio 5\n",
        "\n",
        "Analizar el sistema con α"
      ],
      "metadata": {
        "id": "ncDS_lP-6s0t"
      }
    },
    {
      "cell_type": "code",
      "source": [
        "# Análisis para diferentes valores de alpha\n",
        "alphas = np.linspace(-10, 10, 200)\n",
        "\n",
        "for alpha in alphas:\n",
        "    A = np.array([[1, -1, alpha], [-1, 2, -1], [alpha, 1, 1]], float)\n",
        "    b = np.array([-2, 3, 2], float)\n",
        "    tipo, solucion = encuentra_alpha(A, b)\n",
        "    if tipo == \"única\":\n",
        "        print(f\"Para alpha = {alpha}, el sistema tiene una única solución: {solucion}\")\n",
        "    elif tipo == \"no tiene solución\":\n",
        "        print(f\"Para alpha = {alpha}, el sistema no tiene solución.\")\n",
        "    else:\n",
        "        print(f\"Para alpha = {alpha}, el sistema tiene infinitas soluciones.\")\n"
      ],
      "metadata": {
        "colab": {
          "base_uri": "https://localhost:8080/",
          "height": 211
        },
        "id": "MNi9CKz16ttX",
        "outputId": "5d81c543-3e21-4fb8-9ed4-ce5a7baa7cd0"
      },
      "execution_count": 2,
      "outputs": [
        {
          "output_type": "error",
          "ename": "NameError",
          "evalue": "name 'encuentra_alpha' is not defined",
          "traceback": [
            "\u001b[0;31m---------------------------------------------------------------------------\u001b[0m",
            "\u001b[0;31mNameError\u001b[0m                                 Traceback (most recent call last)",
            "\u001b[0;32m<ipython-input-2-0a2dcff9327c>\u001b[0m in \u001b[0;36m<cell line: 4>\u001b[0;34m()\u001b[0m\n\u001b[1;32m      5\u001b[0m     \u001b[0mA\u001b[0m \u001b[0;34m=\u001b[0m \u001b[0mnp\u001b[0m\u001b[0;34m.\u001b[0m\u001b[0marray\u001b[0m\u001b[0;34m(\u001b[0m\u001b[0;34m[\u001b[0m\u001b[0;34m[\u001b[0m\u001b[0;36m1\u001b[0m\u001b[0;34m,\u001b[0m \u001b[0;34m-\u001b[0m\u001b[0;36m1\u001b[0m\u001b[0;34m,\u001b[0m \u001b[0malpha\u001b[0m\u001b[0;34m]\u001b[0m\u001b[0;34m,\u001b[0m \u001b[0;34m[\u001b[0m\u001b[0;34m-\u001b[0m\u001b[0;36m1\u001b[0m\u001b[0;34m,\u001b[0m \u001b[0;36m2\u001b[0m\u001b[0;34m,\u001b[0m \u001b[0;34m-\u001b[0m\u001b[0;36m1\u001b[0m\u001b[0;34m]\u001b[0m\u001b[0;34m,\u001b[0m \u001b[0;34m[\u001b[0m\u001b[0malpha\u001b[0m\u001b[0;34m,\u001b[0m \u001b[0;36m1\u001b[0m\u001b[0;34m,\u001b[0m \u001b[0;36m1\u001b[0m\u001b[0;34m]\u001b[0m\u001b[0;34m]\u001b[0m\u001b[0;34m,\u001b[0m \u001b[0mfloat\u001b[0m\u001b[0;34m)\u001b[0m\u001b[0;34m\u001b[0m\u001b[0;34m\u001b[0m\u001b[0m\n\u001b[1;32m      6\u001b[0m     \u001b[0mb\u001b[0m \u001b[0;34m=\u001b[0m \u001b[0mnp\u001b[0m\u001b[0;34m.\u001b[0m\u001b[0marray\u001b[0m\u001b[0;34m(\u001b[0m\u001b[0;34m[\u001b[0m\u001b[0;34m-\u001b[0m\u001b[0;36m2\u001b[0m\u001b[0;34m,\u001b[0m \u001b[0;36m3\u001b[0m\u001b[0;34m,\u001b[0m \u001b[0;36m2\u001b[0m\u001b[0;34m]\u001b[0m\u001b[0;34m,\u001b[0m \u001b[0mfloat\u001b[0m\u001b[0;34m)\u001b[0m\u001b[0;34m\u001b[0m\u001b[0;34m\u001b[0m\u001b[0m\n\u001b[0;32m----> 7\u001b[0;31m     \u001b[0mtipo\u001b[0m\u001b[0;34m,\u001b[0m \u001b[0msolucion\u001b[0m \u001b[0;34m=\u001b[0m \u001b[0mencuentra_alpha\u001b[0m\u001b[0;34m(\u001b[0m\u001b[0mA\u001b[0m\u001b[0;34m,\u001b[0m \u001b[0mb\u001b[0m\u001b[0;34m)\u001b[0m\u001b[0;34m\u001b[0m\u001b[0;34m\u001b[0m\u001b[0m\n\u001b[0m\u001b[1;32m      8\u001b[0m     \u001b[0;32mif\u001b[0m \u001b[0mtipo\u001b[0m \u001b[0;34m==\u001b[0m \u001b[0;34m\"única\"\u001b[0m\u001b[0;34m:\u001b[0m\u001b[0;34m\u001b[0m\u001b[0;34m\u001b[0m\u001b[0m\n\u001b[1;32m      9\u001b[0m         \u001b[0mprint\u001b[0m\u001b[0;34m(\u001b[0m\u001b[0;34mf\"Para alpha = {alpha}, el sistema tiene una única solución: {solucion}\"\u001b[0m\u001b[0;34m)\u001b[0m\u001b[0;34m\u001b[0m\u001b[0;34m\u001b[0m\u001b[0m\n",
            "\u001b[0;31mNameError\u001b[0m: name 'encuentra_alpha' is not defined"
          ]
        }
      ]
    },
    {
      "cell_type": "markdown",
      "source": [
        "Ejercicio 6\n",
        "Comprobación de diagonal estrictamente dominante"
      ],
      "metadata": {
        "id": "Esk6GwOW6y3s"
      }
    },
    {
      "cell_type": "code",
      "source": [
        "A = np.array([[1, 0, -1], [-1/2, 1, -1/4], [1/2, -1/2, 1]], float)\n",
        "b = np.array([0.2, -1.425, 2], float)\n",
        "\n",
        "\n",
        "def es_diagonal_dominante(A):\n",
        "    D = np.diag(np.abs(A))\n",
        "    S = np.sum(np.abs(A), axis=1) - D\n",
        "    return np.all(D > S)\n",
        "\n",
        "dominante = es_diagonal_dominante(A)\n",
        "print(f\"La matriz A es diagonal estrictamente dominante: {dominante}\")\n"
      ],
      "metadata": {
        "id": "Qj_afekx6zge"
      },
      "execution_count": null,
      "outputs": []
    },
    {
      "cell_type": "markdown",
      "source": [
        "Método de Gauss-Seidel con tolerancia 10^{-12} y 300 iteraciones"
      ],
      "metadata": {
        "id": "B4H5VfL1641m"
      }
    },
    {
      "cell_type": "code",
      "source": [
        "tol = 1e-12\n",
        "max_iter = 300\n",
        "x0 = np.zeros(3)\n",
        "\n",
        "sol_gauss_seidel_6, iter_6_gs = gauss_seidel(A, b, x0, tol, max_iter)\n",
        "print(f\"Solución Gauss-Seidel Ejercicio 6 con TOL = 10^-12: {sol_gauss_seidel_6} en {iter_6_gs} iteraciones\")\n"
      ],
      "metadata": {
        "id": "3JSSGv5v65Pn"
      },
      "execution_count": null,
      "outputs": []
    },
    {
      "cell_type": "markdown",
      "source": [
        "Cambios en el sistema para el inciso (c)"
      ],
      "metadata": {
        "id": "NvPZQRWf67Ns"
      }
    },
    {
      "cell_type": "code",
      "source": [
        "A_new = np.array([[1, 0, -1], [-1/2, 1, -1/4], [1/2, 0, 1]], float)\n",
        "\n",
        "dominante_new = es_diagonal_dominante(A_new)\n",
        "print(f\"La nueva matriz A es diagonal estrictamente dominante: {dominante_new}\")\n",
        "\n",
        "sol_gauss_seidel_6c, iter_6c_gs = gauss_seidel(A_new, b, x0, tol, max_iter)\n",
        "print(f\"Solución Gauss-Seidel Ejercicio 6c con TOL = 10^-12: {sol_gauss_seidel_6c} en {iter_6c_gs} iteraciones\")\n"
      ],
      "metadata": {
        "colab": {
          "base_uri": "https://localhost:8080/",
          "height": 211
        },
        "id": "q3bFFkCt6-LJ",
        "outputId": "443a0693-bdeb-4347-bca4-16ef2d412607"
      },
      "execution_count": 3,
      "outputs": [
        {
          "output_type": "error",
          "ename": "NameError",
          "evalue": "name 'es_diagonal_dominante' is not defined",
          "traceback": [
            "\u001b[0;31m---------------------------------------------------------------------------\u001b[0m",
            "\u001b[0;31mNameError\u001b[0m                                 Traceback (most recent call last)",
            "\u001b[0;32m<ipython-input-3-af02dfa0f1b8>\u001b[0m in \u001b[0;36m<cell line: 3>\u001b[0;34m()\u001b[0m\n\u001b[1;32m      1\u001b[0m \u001b[0mA_new\u001b[0m \u001b[0;34m=\u001b[0m \u001b[0mnp\u001b[0m\u001b[0;34m.\u001b[0m\u001b[0marray\u001b[0m\u001b[0;34m(\u001b[0m\u001b[0;34m[\u001b[0m\u001b[0;34m[\u001b[0m\u001b[0;36m1\u001b[0m\u001b[0;34m,\u001b[0m \u001b[0;36m0\u001b[0m\u001b[0;34m,\u001b[0m \u001b[0;34m-\u001b[0m\u001b[0;36m1\u001b[0m\u001b[0;34m]\u001b[0m\u001b[0;34m,\u001b[0m \u001b[0;34m[\u001b[0m\u001b[0;34m-\u001b[0m\u001b[0;36m1\u001b[0m\u001b[0;34m/\u001b[0m\u001b[0;36m2\u001b[0m\u001b[0;34m,\u001b[0m \u001b[0;36m1\u001b[0m\u001b[0;34m,\u001b[0m \u001b[0;34m-\u001b[0m\u001b[0;36m1\u001b[0m\u001b[0;34m/\u001b[0m\u001b[0;36m4\u001b[0m\u001b[0;34m]\u001b[0m\u001b[0;34m,\u001b[0m \u001b[0;34m[\u001b[0m\u001b[0;36m1\u001b[0m\u001b[0;34m/\u001b[0m\u001b[0;36m2\u001b[0m\u001b[0;34m,\u001b[0m \u001b[0;36m0\u001b[0m\u001b[0;34m,\u001b[0m \u001b[0;36m1\u001b[0m\u001b[0;34m]\u001b[0m\u001b[0;34m]\u001b[0m\u001b[0;34m,\u001b[0m \u001b[0mfloat\u001b[0m\u001b[0;34m)\u001b[0m\u001b[0;34m\u001b[0m\u001b[0;34m\u001b[0m\u001b[0m\n\u001b[1;32m      2\u001b[0m \u001b[0;34m\u001b[0m\u001b[0m\n\u001b[0;32m----> 3\u001b[0;31m \u001b[0mdominante_new\u001b[0m \u001b[0;34m=\u001b[0m \u001b[0mes_diagonal_dominante\u001b[0m\u001b[0;34m(\u001b[0m\u001b[0mA_new\u001b[0m\u001b[0;34m)\u001b[0m\u001b[0;34m\u001b[0m\u001b[0;34m\u001b[0m\u001b[0m\n\u001b[0m\u001b[1;32m      4\u001b[0m \u001b[0mprint\u001b[0m\u001b[0;34m(\u001b[0m\u001b[0;34mf\"La nueva matriz A es diagonal estrictamente dominante: {dominante_new}\"\u001b[0m\u001b[0;34m)\u001b[0m\u001b[0;34m\u001b[0m\u001b[0;34m\u001b[0m\u001b[0m\n\u001b[1;32m      5\u001b[0m \u001b[0;34m\u001b[0m\u001b[0m\n",
            "\u001b[0;31mNameError\u001b[0m: name 'es_diagonal_dominante' is not defined"
          ]
        }
      ]
    },
    {
      "cell_type": "code",
      "source": [],
      "metadata": {
        "id": "2-3oaWdq82oF"
      },
      "execution_count": null,
      "outputs": []
    },
    {
      "cell_type": "markdown",
      "source": [
        "Ejercicio 8"
      ],
      "metadata": {
        "id": "aZo-Wogb827n"
      }
    },
    {
      "cell_type": "code",
      "source": [
        "import numpy as np\n",
        "\n",
        "\n",
        "A = np.array([\n",
        "    [4, -1, 0, 0, -1, 0, 0, 0, 0, 0, 0, 0],\n",
        "    [-1, 4, -1, 0, 0, 0, 0, 0, 0, 0, 0, 0],\n",
        "    [0, -1, 4, -1, 0, 0, 0, 0, 0, 0, 0, 0],\n",
        "    [0, 0, -1, 4, 0, 0, 0, -1, 0, 0, 0, 0],\n",
        "    [-1, 0, 0, 0, 4, -1, 0, 0, 0, 0, 0, 0],\n",
        "    [0, 0, 0, 0, -1, 4, -1, 0, 0, 0, 0, 0],\n",
        "    [0, 0, 0, 0, 0, -1, 4, -1, 0, 0, 0, 0],\n",
        "    [0, 0, 0, -1, 0, 0, -1, 4, 0, 0, 0, 0],\n",
        "    [0, 0, 0, 0, 0, 0, 0, 0, 4, -1, 0, -1],\n",
        "    [0, 0, 0, 0, 0, 0, 0, 0, -1, 4, -1, 0],\n",
        "    [0, 0, 0, 0, 0, 0, 0, 0, 0, -1, 4, -1],\n",
        "    [0, 0, 0, 0, 0, 0, 0, 0, -1, 0, -1, 4]\n",
        "])\n",
        "\n",
        "\n",
        "def es_diagonalmente_dominante(A):\n",
        "    D = np.diag(np.abs(A))\n",
        "    S = np.sum(np.abs(A), axis=1) - D\n",
        "    return np.all(D > S)\n",
        "\n",
        "print(\"La matriz es estrictamente diagonalmente dominante:\", es_diagonalmente_dominante(A))\n"
      ],
      "metadata": {
        "id": "UkqIUGvl85vJ"
      },
      "execution_count": null,
      "outputs": []
    },
    {
      "cell_type": "markdown",
      "source": [
        "b"
      ],
      "metadata": {
        "id": "QBz1uCo989Et"
      }
    },
    {
      "cell_type": "code",
      "source": [
        "def jacobi(A, b, x0, tol, max_iter):\n",
        "    n = len(A)\n",
        "    x = x0.copy()\n",
        "    for k in range(max_iter):\n",
        "        x_new = np.zeros_like(x)\n",
        "        for i in range(n):\n",
        "            s = sum(A[i][j] * x[j] for j in range(n) if j != i)\n",
        "            x_new[i] = (b[i] - s) / A[i][i]\n",
        "        if np.linalg.norm(x_new - x, np.inf) < tol:\n",
        "            return x_new, k + 1\n",
        "        x = x_new\n",
        "    return x, max_iter\n",
        "\n",
        "\n",
        "b = np.array([220, 110, 110, 220, 110, 110, 110, 110, 110, 220, 110, 220])\n",
        "\n",
        "\n",
        "x0 = np.zeros_like(b)\n",
        "tol = 10**-2\n",
        "max_iter = 100\n",
        "\n",
        "x_jacobi, iter_jacobi = jacobi(A, b, x0, tol, max_iter)\n",
        "print(\"Solución con método de Jacobi:\")\n",
        "print(x_jacobi)\n",
        "print(\"Iteraciones:\", iter_jacobi)\n"
      ],
      "metadata": {
        "id": "qN-jOpgy89_t"
      },
      "execution_count": null,
      "outputs": []
    },
    {
      "cell_type": "markdown",
      "source": [
        "c"
      ],
      "metadata": {
        "id": "zjKuk4Kn9BCV"
      }
    },
    {
      "cell_type": "code",
      "source": [
        "def gauss_seidel(A, b, x0, tol, max_iter):\n",
        "    n = len(A)\n",
        "    x = x0.copy()\n",
        "    for k in range(max_iter):\n",
        "        x_new = x.copy()\n",
        "        for i in range(n):\n",
        "            s1 = sum(A[i][j] * x_new[j] for j in range(i))\n",
        "            s2 = sum(A[i][j] * x[j] for j in range(i + 1, n))\n",
        "            x_new[i] = (b[i] - s1 - s2) / A[i][i]\n",
        "        if np.linalg.norm(x_new - x, np.inf) < tol:\n",
        "            return x_new, k + 1\n",
        "        x = x_new\n",
        "    return x, max_iter\n",
        "\n",
        "x_gauss_seidel, iter_gauss_seidel = gauss_seidel(A, b, x0, tol, max_iter)\n",
        "print(\"Solución con método de Gauss-Seidel:\")\n",
        "print(x_gauss_seidel)\n",
        "print(\"Iteraciones:\", iter_gauss_seidel)\n"
      ],
      "metadata": {
        "id": "yk0WOjsQ9BpD"
      },
      "execution_count": null,
      "outputs": []
    }
  ]
}